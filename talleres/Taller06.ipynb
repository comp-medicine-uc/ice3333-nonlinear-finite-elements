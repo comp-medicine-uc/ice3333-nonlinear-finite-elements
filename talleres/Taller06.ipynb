{
 "cells": [
  {
   "cell_type": "markdown",
   "metadata": {},
   "source": [
    "# ICE3333 - Elementos Finitos No-Lineales - Taller 06 (material complementario) \n",
    "## Suavización de tensiones para elasticidad lineal"
   ]
  },
  {
   "cell_type": "markdown",
   "metadata": {},
   "source": [
    "## Marco teórico\n",
    "En este taller resolveremos mediante elementos finitos un problema de elasticidad lineal en 2D obteniendo como resultado el campo de desplazamientos $\\boldsymbol{u}$. Luego, calcularemos las tensiones y aplicaremos el método de suavización de tensiones $L^2$ para encontrar los valores nodales del campo de tensiones.\n",
    "\n",
    "\n",
    "A modo de motivación, planteamos la formulación fuerte del problema de elasticidad lineal:\n",
    "\n",
    "Encuentre $\\boldsymbol{u}\\in C^2(\\Omega \\times \\mathbb{R}^n)$ tal que\n",
    "\t\\begin{equation*}\n",
    "\t\\begin{gathered}\n",
    "\t\\text{div} \\boldsymbol{\\sigma}+ \\boldsymbol{b}=0      \\ \\ \\ x \\in \\Omega\\\\\n",
    "    \\boldsymbol{\\sigma} =\\boldsymbol{\\mathbb{C}} :\\boldsymbol{\\varepsilon}       \\ \\ \\ x \\in \\Omega\\\\\n",
    "   \\varepsilon =\\frac{1}{2}(\\nabla \\boldsymbol{u} +\\nabla \\boldsymbol{u}^T)     \\ \\ \\ x \\in \\Omega\\\\\n",
    "\t\\boldsymbol{u} =\\bar{\\boldsymbol{u}}  \\ \\ \\ x \\in \\partial \\Omega_D \\\\\n",
    "\t\\boldsymbol{\\sigma} \\boldsymbol{n} =\\bar{\\boldsymbol{t}}  \\ \\ \\ x \\in \\partial \\Omega_N \\\\\n",
    "\t\\end{gathered}\\label{eq:Elast}\n",
    "\t\\end{equation*}\n",
    "    \n",
    "Como sabemos, el problema de elementos finitos asociado puede ser planteado como:\n",
    "\n",
    "Dada $K \\in R^{N \\times N}$ y $F\\in R^N$,   encuentre $\\boldsymbol{u} \\in R^N$  tal que\n",
    "\t\\begin{equation}\n",
    "    K\\boldsymbol{u}=F\n",
    "\t\\end{equation} \\\\\n",
    "    \n",
    "    \n",
    "donde $K$ y $F$ pueden ser obtenidas mediante el ensamblaje de las contribuciones elementales $k^e$ y $f^e$:    \n",
    "     \\begin{equation}\n",
    "        {k}^e =\\int_{{\\Omega}^e}  \\boldsymbol{B}^{eT} \\boldsymbol{C} \\boldsymbol{B}^e  dx\n",
    "\t\\end{equation}\n",
    "  \\begin{equation}\n",
    "        {f}^e =\\int_{{\\Omega}^e} \\boldsymbol{N^{eT}} \\boldsymbol{b} \\ dx+ \\int_{ \\partial \\Omega_{N}} \\boldsymbol{N^{eT}} \\bar{\\boldsymbol{t}} ds \n",
    "\t\\end{equation}\n",
    "    \n",
    "    \n",
    "Una vez encontrado $\\boldsymbol{u}$, es posible expresar el campo de tensiones como \n",
    " \\begin{equation}\n",
    "  \\boldsymbol{\\sigma}^{eh} (x) =\\boldsymbol{C} \\boldsymbol{B}^e (x) \\boldsymbol{u}^e\n",
    " \\end{equation}\n",
    "    \n",
    "    \n",
    "    \n",
    "Sin embargo, si se utiliza directamente lo anterior, existen discontinuidades en el cálculo de tensiones. Para solucionar esto, se propone un campo de tensiones suavizado\n",
    "\\begin{equation}\n",
    "  \\bar{\\sigma}^{} (x) = \\sum N_A (x)  \\bar{\\sigma}_{A}  \n",
    " \\end{equation}    \n",
    " \n",
    " y minimizamos la distancia $L^2$ entre el campo FEM y el aproximante\n",
    " \\begin{equation}\n",
    "\\text{min}     \\int_\\Omega ( \\boldsymbol{\\sigma}^{h} (x)-\\bar{\\sigma}^{} (x) )^2 dx \\Leftrightarrow {M} \\boldsymbol{\\Sigma}={P} \n",
    " \\end{equation}  \n",
    " \n",
    " donde $M$ y $P$ mediante ensamblaje de\n",
    "      \\begin{equation}\n",
    "        {m}^e =\\int_{{\\Omega}^e}  \\boldsymbol{N}^{eT}  \\boldsymbol{N}^e  dx\n",
    "\t\\end{equation}\n",
    "  \\begin{equation}\n",
    "        {p}^e =\\int_{{\\Omega}^e} \\boldsymbol{N^{eT}} \\sigma^{eh}  \\ dx\n",
    "\t\\end{equation}\n",
    " \n",
    " y finalmente encontramos las tensiones nodales proyectadas (suavizadas) $\\boldsymbol{\\Sigma}=[\\bar{\\sigma_1},...,\\bar{\\sigma_n}]^T$\n",
    " "
   ]
  },
  {
   "cell_type": "markdown",
   "metadata": {},
   "source": [
    "### Resolución mediante elementos finitos en Python"
   ]
  },
  {
   "cell_type": "markdown",
   "metadata": {},
   "source": [
    "En primer lugar, importamos las librerías necesarias para resolver el problema. "
   ]
  },
  {
   "cell_type": "code",
   "execution_count": 3,
   "metadata": {},
   "outputs": [],
   "source": [
    "import numpy as np\n",
    "import matplotlib.pyplot as plt"
   ]
  },
  {
   "cell_type": "markdown",
   "metadata": {},
   "source": [
    "Como geometría consideraremos un cuadrado de $L=H=4$, empotrada en su base y con una tensión aplicada en el centro de su frontera superior. Generamos la geometría y arreglos necesarios: XYZ,IEN,ID,LM "
   ]
  },
  {
   "cell_type": "code",
   "execution_count": 21,
   "metadata": {},
   "outputs": [],
   "source": [
    "def MeshDomain(ndx,ndy,L,H): \n",
    "    nen=4\n",
    "    nel=ndx*ndy\n",
    "    nnodes=(ndx+1)*(ndy+1)\n",
    "\n",
    "    xyz=np.zeros([nnodes,2])\n",
    "    dx=np.linspace(0,L,ndx+1)\n",
    "    dy=np.linspace(0,H,ndy+1)\n",
    "    cont=0\n",
    "    for i in np.arange(dy.shape[0]):\n",
    "        for j in np.arange(dx.shape[0]):\n",
    "            xyz[cont,0]=dx[j]\n",
    "            xyz[cont,1]=dy[i]\n",
    "            cont=cont+1\n",
    "   \n",
    "    IEN=np.zeros([nel,nen], dtype=int)\n",
    "    cont=0\n",
    "    for i in np.arange(ndy):\n",
    "        b1=np.linspace(i*(ndx+1),i*(ndx+1)+ndx,ndx+1)\n",
    "        b2=b1+ndx+1\n",
    "        for j in np.arange(ndx):                \n",
    "            e1=np.array([b1[j+0],b1[j+1],b2[j+1],b2[j+0]])\n",
    "            IEN[cont]=e1\n",
    "            cont=cont+1\n",
    "     \n",
    "    ID=np.zeros([nnodes,2],dtype=int)\n",
    "    cont=0\n",
    "    for i in np.arange(nnodes):\n",
    "        if xyz[i,1]==0:\n",
    "            ID[i,0]=-1\n",
    "            ID[i,1]=-1\n",
    "        else:\n",
    "            ID[i,0]=cont\n",
    "            cont=cont+1\n",
    "            ID[i,1]=cont\n",
    "            cont=cont+1\n",
    "     \n",
    "    LM=np.zeros([nel,8],dtype=int)\n",
    "    for e in np.arange(nel):\n",
    "        LM[e,0]=ID[IEN[e,0],0]\n",
    "        LM[e,1]=ID[IEN[e,0],1]\n",
    "        LM[e,2]=ID[IEN[e,1],0]\n",
    "        LM[e,3]=ID[IEN[e,1],1]\n",
    "        LM[e,4]=ID[IEN[e,2],0]\n",
    "        LM[e,5]=ID[IEN[e,2],1]\n",
    "        LM[e,6]=ID[IEN[e,3],0]\n",
    "        LM[e,7]=ID[IEN[e,3],1]\n",
    "    \n",
    "    \n",
    "    return (xyz,IEN,ID,LM)   \n",
    "   \n",
    "     \n",
    "ndx=20\n",
    "ndy=20\n",
    "L=4\n",
    "H=4\n",
    "XYZ,IEN,ID,LM =MeshDomain(ndx,ndy,L,H) "
   ]
  },
  {
   "cell_type": "markdown",
   "metadata": {},
   "source": [
    "Creamos función que nos permitirá resolver las integrales numericamente en el dominio isoparamétrico. En particular, esta función nos entrega los puntos de integración y pesos asociados. Para lo anterior, recordamos que estas pueden obtenerse a partir de los puntos y pesos en 1D. "
   ]
  },
  {
   "cell_type": "code",
   "execution_count": 22,
   "metadata": {},
   "outputs": [],
   "source": [
    "def GaussQuad(k):\n",
    "    if k==1:\n",
    "        wl=np.array([2.])\n",
    "        xil=np.array([0.])        \n",
    "    elif k==2:\n",
    "        wl=np.array([1.,1.])\n",
    "        xil=np.array([-1.,1.])*(1/np.sqrt(3.))\n",
    "    elif k==3:\n",
    "        wl=np.array([5/9, 8/9, 5/9])\n",
    "        xil=np.array([-0.7745966692414834,\n",
    "                      0,0.7745966692414834])     \n",
    "    elif k==4:\n",
    "        wl=np.array([0.347854845, 0.652145155,\n",
    "                     0.652145155,0.347854845])\n",
    "        xil=np.array([-0.861136312,-0.339981044,\n",
    "                      0.339981044,0.861136312])    \n",
    "    elif k==5:\n",
    "        wl=np.array([0.236926885 , 0.478628670 ,0.568888889 , 0.478628670 , 0.236926885])\n",
    "        xil=np.array([-0.906179846,-0.538469310,0,            0.538469310,0.906179846])   \n",
    "        \n",
    "\n",
    "    return xil,wl\n",
    "\n",
    "def QuadGaussQuad(k):\n",
    "    xil,wl=GaussQuad(k)\n",
    "    \n",
    "    xi = np.zeros([k*k,2])\n",
    "    w = np.zeros(k*k)\n",
    "    \n",
    "    cont = 0\n",
    "    for i in range(k):\n",
    "        for j in range(k):\n",
    "            xi[cont] = np.array([xil[i], xil[j]])\n",
    "            w[cont] = wl[i]*wl[j]\n",
    "            cont += 1\n",
    "            \n",
    "    return xi,w\n"
   ]
  },
  {
   "cell_type": "markdown",
   "metadata": {},
   "source": [
    "Creamos una función que nos permita obtener las funciones de forma y sus derivadas. Para ello, recordamos que estas pueden ser obtenidas a partir de las expresiones en el dominio isoparamétrico\n",
    " \\begin{equation}\n",
    "N_a^e(x)=\\hat{N}_a(\\hat{\\xi}(x))\n",
    "\t\\end{equation}\n",
    "\n",
    "\n",
    " \\begin{equation}\n",
    "\\nabla_x N_a^e(x)=J^{-T} \\nabla_\\xi \\hat{N}_a \n",
    "\t\\end{equation}"
   ]
  },
  {
   "cell_type": "code",
   "execution_count": 23,
   "metadata": {},
   "outputs": [],
   "source": [
    "def Q1shp(xeset,xi_):\n",
    "    xi, eta = xi_[0], xi_[1]\n",
    "    \n",
    "    N1hat = 1/4*(1-xi)*(1-eta)\n",
    "    N2hat = 1/4*(1+xi)*(1-eta)\n",
    "    N3hat = 1/4*(1+xi)*(1+eta)\n",
    "    N4hat = 1/4*(1-xi)*(1+eta)\n",
    "    \n",
    "    DN1hat = np.array([-1/4.*(1-eta),-1/4.*(1-xi)])\n",
    "    DN2hat = np.array([1/4.*(1-eta),-1/4.*(1+xi)])\n",
    "    DN3hat = np.array([1/4.*(1+eta),1/4.*(1+xi)])\n",
    "    DN4hat = np.array([-1/4.*(1+eta),1/4.*(1-xi)])\n",
    "    \n",
    "    Nhat = np.matrix([N1hat,N2hat,N3hat,N4hat])\n",
    "    DNhat = np.matrix([DN1hat,DN2hat,DN3hat,DN4hat]).T\n",
    "    \n",
    "    J = xeset*DNhat.T\n",
    "    \n",
    "    detJ = np.abs(np.linalg.det(J))\n",
    "    DN = np.linalg.inv(J).T*DNhat\n",
    "    xhat = Nhat*xeset.T\n",
    "    N = Nhat\n",
    "    \n",
    "    return xhat, N, DN, detJ"
   ]
  },
  {
   "cell_type": "markdown",
   "metadata": {},
   "source": [
    "Creamos funciones auxiliares que nos permiten obtener las matrices $\\boldsymbol{B}^e$ y $\\boldsymbol{N}^e$ que usaremos para las matrices de rigidez elemental"
   ]
  },
  {
   "cell_type": "code",
   "execution_count": 24,
   "metadata": {},
   "outputs": [],
   "source": [
    "def BElasticity(DN):\n",
    "    B = np.matrix([[DN[0,0],0],\n",
    "                   [0,DN[1,0]],\n",
    "                   [DN[1,0],DN[0,0]]])\n",
    "    for i in np.arange(1,DN.shape[1]):\n",
    "        Baux = np.matrix([[DN[0,i],0],\n",
    "                  [0,DN[1,i]],\n",
    "                  [DN[1,i],DN[0,i]]])\n",
    "        B = np.hstack([B,Baux])\n",
    "    return B\n",
    "\n",
    "def NElasticity(NN):\n",
    "    N = np.matrix([[NN[0,0],0],\n",
    "                 [0,NN[0,0]]])\n",
    "    for i in np.arange(1,NN.shape[1]):\n",
    "        Naux = np.matrix([[NN[0,i],0],\n",
    "                      [0,NN[0,i]]])\n",
    "        N = np.hstack([N,Naux])\n",
    "    return N\n",
    "    "
   ]
  },
  {
   "cell_type": "markdown",
   "metadata": {},
   "source": [
    "Ahora, creamos una función que nos permita obtener la matriz de rigidez y vector de fuerzas elemental para elasticidad lineal y otra que nos permita ensamblar sus contribuciones"
   ]
  },
  {
   "cell_type": "code",
   "execution_count": 25,
   "metadata": {},
   "outputs": [],
   "source": [
    "def Q1kefeElasticity(xeset, C, f, k):\n",
    "    ned = 2\n",
    "    nen = xeset.shape[1]\n",
    "    nee = ned*nen\n",
    "    \n",
    "    xil,wl = QuadGaussQuad(k)\n",
    "    \n",
    "    ke = np.asmatrix(np.zeros([nee,nee]))\n",
    "    fe = np.asmatrix(np.zeros(nee)).T \n",
    "    \n",
    "    for l in np.arange(len(wl)):\n",
    "        xi = xil[l]\n",
    "        w = wl[l]\n",
    "        xhat, N_, DN, detJ = Q1shp(xeset, xi)\n",
    "        \n",
    "        B = BElasticity(DN)\n",
    "        N = NElasticity(N_)  \n",
    "        \n",
    "        fe = fe+w*(N.T*f)*detJ\n",
    "        ke = ke+w*(B.T*C*B)*detJ \n",
    "       \n",
    "    return ke,fe    \n",
    "\n",
    "\n",
    "\n",
    "def Q1ElasticityAssemble(xyz, IEN, LM, C, f, k):\n",
    "    Nel=IEN.shape[0]\n",
    "    Nee=LM.shape[1]\n",
    "    ndofs=np.max(LM)+1\n",
    "    \n",
    "    K=np.asmatrix(np.zeros([ndofs,ndofs]))\n",
    "    F=np.asmatrix(np.zeros([ndofs,1]))\n",
    "    \n",
    "    for e in np.arange(Nel):\n",
    "        xeset = np.asmatrix(xyz[IEN[e]]).T \n",
    "        ke,fe=Q1kefeElasticity(xeset, C, f, k)\n",
    "        for p in np.arange(Nee):\n",
    "            P=LM[e,p]\n",
    "            if P!=-1:\n",
    "                for q in np.arange(Nee):\n",
    "                    Q=LM[e,q]\n",
    "                    if Q!=-1:\n",
    "                        K[P,Q]=K[P,Q]+ke[p,q]\n",
    "                F[P]=F[P]+fe[p]\n",
    "    \n",
    "    return K, F \n",
    "  "
   ]
  },
  {
   "cell_type": "markdown",
   "metadata": {},
   "source": [
    "Planteamos las propiedades del material, definimos los elementos y nodos con carga y resolvemos el problema"
   ]
  },
  {
   "cell_type": "code",
   "execution_count": 26,
   "metadata": {},
   "outputs": [],
   "source": [
    "\n",
    "\n",
    "#io.write_points_cells('Malla'+'.vtk',XYZ,{'quad': IEN}) #Visualizar malla en Paraview\n",
    "\n",
    "k = 2\n",
    "E = 9000  \n",
    "nu = 0.3\n",
    "f = 0*np.matrix([0,-1]).T    #Fuerzas de cuerpo nulas\n",
    "q= -20        #Carga distribuida en el centro de su frontera superior\n",
    "C = E/(1-nu**2)*np.matrix([[1,nu,0.],[nu,1,0],[0.,0.,0.5-nu/2]])\n",
    "\n",
    "etaf=[429,430,431] #Nodos con carga\n",
    "elemf=[389,390] #Elementos con carga\n",
    "\n",
    "K,F = Q1ElasticityAssemble(XYZ, IEN, LM, C, f, k)\n",
    "\n",
    "#La expresión anterior solo considera el aporte de las fuerzas de cuerpo, en las siguientes líneas agregamos las tracciones en superficie\n",
    "for e in elemf:\n",
    "    nodes = IEN[e]\n",
    "    nodf = np.array([], dtype=int)\n",
    "    for i in nodes:\n",
    "        if i in etaf:\n",
    "            nodf = np.append(nodf, i)\n",
    "    Lx=L/ndx\n",
    "    Ftotal = q*Lx\n",
    "    \n",
    "    F[ID[nodf,1]] = F[ID[nodf,1]] + Ftotal/2\n",
    "    \n",
    "u = np.linalg.solve(K,F)"
   ]
  },
  {
   "cell_type": "markdown",
   "metadata": {},
   "source": [
    "Ahora generamos una rutina que nos permita transformar el vector $u$  a un arreglo de las mismas dimensiones que XYZ"
   ]
  },
  {
   "cell_type": "code",
   "execution_count": 27,
   "metadata": {},
   "outputs": [],
   "source": [
    "def DispMap(xyz,ID,u):\n",
    "    DispMap = np.zeros(xyz.shape)\n",
    "    for i in np.arange(xyz.shape[0]):\n",
    "        if ID[i,0] != -1:\n",
    "            DispMap[i,0] = u[ID[i,0]]\n",
    "        if ID[i,1] != -1:\n",
    "            DispMap[i,1] = u[ID[i,1]]\n",
    "            \n",
    "    return DispMap\n",
    "\n",
    "dispmap = DispMap(XYZ, ID, u)\n",
    "#io.write_points_cells('Deformada'+'.vtk',XYZ,{'quad': IEN},point_data={'Desplazamiento':dispmap}) #Desplazamientos en Paraview\n"
   ]
  },
  {
   "cell_type": "markdown",
   "metadata": {},
   "source": [
    "Utilizando los desplazamiento, encontraremos las tensiones proyectadas. Para ello, creamos funciones que nos permitan obtener $m^e$ y $p^e$ y luego su ensamblaje"
   ]
  },
  {
   "cell_type": "code",
   "execution_count": 28,
   "metadata": {},
   "outputs": [],
   "source": [
    "def Q1mepe(xeset,ueset,C,k,lumpedMatrix):\n",
    "    xil,wl = QuadGaussQuad(k)\n",
    "    me = np.zeros([4,4])\n",
    "    pe = np.zeros([4,3])\n",
    "    u = np.matrix([ueset[0,0],ueset[1,0],ueset[0,1],ueset[1,1],\n",
    "                   ueset[0,2],ueset[1,2],ueset[0,3],ueset[1,3]]).T\n",
    "    for l in np.arange(len(wl)):\n",
    "        xi = xil[l,:]\n",
    "        w = wl[l]\n",
    "        xhat,N,DN,detJ = Q1shp(xeset,xi)\n",
    "        me = me + w*(N.T*N)*detJ\n",
    "                \n",
    "        B = BElasticity(DN)\n",
    "        sigma = C*B*u\n",
    "        pe = pe + w*(N.T*sigma.T)*detJ\n",
    "        \n",
    "    if lumpedMatrix:\n",
    "        m1 = np.zeros(4)\n",
    "        for i in np.arange(me.shape[0]):\n",
    "            for j in np.arange(me.shape[1]):\n",
    "                m1[i] = m1[i]+me[i,j]\n",
    "        me = np.diag(m1)\n",
    "                \n",
    "    return me,pe\n",
    "\n",
    "def Q1L2StressSmoothingAssemble(xyz,dispmap,IEN,C,k,lumpedMatrix):\n",
    "    M = np.zeros([xyz.shape[0],xyz.shape[0]])\n",
    "    P = np.zeros([xyz.shape[0],3])\n",
    "    \n",
    "    LM_smooth = IEN\n",
    "    for e in np.arange(IEN.shape[0]):\n",
    "        xeset = np.asmatrix(xyz[IEN[e]]).T \n",
    "        ueset = np.asmatrix(dispmap[IEN[e]]).T \n",
    "        \n",
    "        me,pe = Q1mepe(xeset,ueset,C,k,lumpedMatrix)\n",
    "        \n",
    "        for p in np.arange(4):\n",
    "            A = LM_smooth[e,p]\n",
    "            for q in np.arange(4):\n",
    "                B = LM_smooth[e,q]\n",
    "                M[A,B] = M[A,B] + me[p,q]\n",
    "            P[A,0] = P[A,0] + pe[p,0]\n",
    "            P[A,1] = P[A,1] + pe[p,1]\n",
    "            P[A,2] = P[A,2] + pe[p,2]\n",
    "          \n",
    "    return M,P\n"
   ]
  },
  {
   "cell_type": "markdown",
   "metadata": {},
   "source": [
    "Finalmente, resolvemos $M \\Sigma = P$ y encontramos las tensiones proyectadas"
   ]
  },
  {
   "cell_type": "code",
   "execution_count": 29,
   "metadata": {},
   "outputs": [],
   "source": [
    "M,P = Q1L2StressSmoothingAssemble(XYZ,dispmap,IEN,C,k,True)\n",
    "sigma = np.linalg.solve(M,P)\n",
    "#io.write_points_cells('Tensiones'+'.vtk',XYZ,{'quad': IEN},point_data={'Desplazamiento':dispmap,'sigma':sigma})\n"
   ]
  },
  {
   "cell_type": "markdown",
   "metadata": {},
   "source": [
    "Graficamos como ejemplo las tensiones $\\sigma_y$ en función de su altura $y$ para $x=L/2$"
   ]
  },
  {
   "cell_type": "code",
   "execution_count": 18,
   "metadata": {},
   "outputs": [
    {
     "data": {
      "text/plain": [
       "Text(0, 0.5, 'Coordenada y')"
      ]
     },
     "execution_count": 18,
     "metadata": {},
     "output_type": "execute_result"
    },
    {
     "data": {
      "image/png": "[encoded data removed]",
      "text/plain": [
       "<Figure size 432x288 with 1 Axes>"
      ]
     },
     "metadata": {
      "needs_background": "light"
     },
     "output_type": "display_data"
    }
   ],
   "source": [
    "alturas=[]\n",
    "sigmay=[]\n",
    "for i in np.arange(XYZ.shape[0]):\n",
    "    if XYZ[i,0]==L/2:\n",
    "        sigmay.append(sigma[i,1])\n",
    "        alturas.append(XYZ[i,1])\n",
    "\n",
    "plt.plot(sigmay,alturas,'r')\n",
    "plt.xlabel('$\\sigma_y$')\n",
    "plt.ylabel('Coordenada y')       "
   ]
  },
  {
   "cell_type": "code",
   "execution_count": null,
   "metadata": {},
   "outputs": [],
   "source": []
  }
 ],
 "metadata": {
  "kernelspec": {
   "display_name": "Python 3",
   "language": "python",
   "name": "python3"
  },
  "language_info": {
   "codemirror_mode": {
    "name": "ipython",
    "version": 3
   },
   "file_extension": ".py",
   "mimetype": "text/x-python",
   "name": "python",
   "nbconvert_exporter": "python",
   "pygments_lexer": "ipython3",
   "version": "3.7.4"
  },
  "latex_envs": {
   "LaTeX_envs_menu_present": true,
   "autoclose": false,
   "autocomplete": true,
   "bibliofile": "biblio.bib",
   "cite_by": "apalike",
   "current_citInitial": 1,
   "eqLabelWithNumbers": true,
   "eqNumInitial": 1,
   "hotkeys": {
    "equation": "Ctrl-E",
    "itemize": "Ctrl-I"
   },
   "labels_anchors": false,
   "latex_user_defs": false,
   "report_style_numbering": false,
   "user_envs_cfg": false
  }
 },
 "nbformat": 4,
 "nbformat_minor": 2
}
