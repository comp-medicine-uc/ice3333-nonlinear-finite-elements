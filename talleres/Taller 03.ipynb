{
 "cells": [
  {
   "cell_type": "markdown",
   "metadata": {},
   "source": [
    "# ICE3333 - Elementos Finitos No-Lineales - Taller 03\n",
    "## Test de consistencia"
   ]
  },
  {
   "cell_type": "markdown",
   "metadata": {},
   "source": [
    "### Marco teórico\n",
    "En este taller programaremos y aplicaremos el test de consistencia de segundo orden para una función multidimensional simple.\n",
    "\n",
    "\n",
    "En clases vimos que para el caso de funciones multidimensionales $\\mathsf{R}:\\mathbb{R}^N\\rightarrow \\mathbb{R}^N$, la expansión de Taylor con residuo en torno a un punto $\\vec{x}_0\\in\\mathbb{R}^N$ en dirección $\\mathsf{e}$ con magnitud $h$ (i.e., $||\\vec{e}||=1$) viene dada por\n",
    "\n",
    "\\begin{equation*}\n",
    "\\mathsf{R}(\\mathsf{x}_0+h\\mathsf{e}) = \\mathsf{R}(\\mathsf{x}_0)+\\lbrace \\mathsf{T} \\mathsf{R}(\\vec{x}_0), h \\mathsf{e} \\rbrace + \\mathcal{O}(h^2)\n",
    "\\end{equation*}\n",
    "\n",
    "Y se puede demostrar que el test de consistencia de segundo orden ($h^2$) viene dado por\n",
    "\n",
    "\\begin{equation*}\n",
    "\\left\\| \\frac{\\mathsf{R}(\\mathsf{x}_0 + h\\mathsf{e})-\\mathsf{R}(\\mathsf{x}_0 - h\\mathsf{e})}{2} - \\langle \\mathsf{T} \\mathsf{R}(\\mathsf{x}_0), h\\ \\mathsf{e} \\rangle \\right\\| \\sim \\alpha h^2\n",
    "\\end{equation*}\n",
    "\n",
    "donde $\\left\\| \\cdot \\right\\|$ es la norma euclidiana, y $\\mathsf{e}$ es un vector con dirección aleatoria."
   ]
  },
  {
   "cell_type": "markdown",
   "metadata": {},
   "source": [
    "## Problema a resolver\n",
    "\n",
    "Consideremos el residual dado por \n",
    "\n",
    "\\begin{equation*} \\mathsf{R}=\n",
    "\\begin{bmatrix}\n",
    "\\alpha x_1-\\beta\\\\\n",
    "\\alpha x_2-\\beta\n",
    "\\end{bmatrix}\n",
    "\\end{equation*}\n",
    "\n",
    "y su operador tangente es\n",
    "\n",
    "\\begin{equation*} \\mathsf{T}\\mathsf{R}=\n",
    "\\begin{bmatrix}\n",
    "\\alpha& 0 \\\\\n",
    "0 & \\alpha \n",
    "\\end{bmatrix}\n",
    "\\end{equation*}\n",
    "\n",
    "Luego, creamos una función que nos permita obtener el residual y operador tangente para cualquier *state* $\\mathsf{x}_0=(x_1, x_2)^T$ y set de parámetros *params*=$[\\alpha, \\beta]$"
   ]
  },
  {
   "cell_type": "code",
   "execution_count": 6,
   "metadata": {},
   "outputs": [
    {
     "name": "stdout",
     "output_type": "stream",
     "text": [
      "R= [[-1.93537531]\n",
      " [-1.54554871]]\n",
      "TR= [[2 0]\n",
      " [0 2]]\n"
     ]
    }
   ],
   "source": [
    "import numpy as np\n",
    "\n",
    "def quad(state,parameters):\n",
    "    alpha,beta=parameters\n",
    "    x=state\n",
    "    x1=x[0,0]\n",
    "    x2=x[1,0]\n",
    "    R=np.matrix([[alpha*x1-beta],[alpha*x2-beta]])\n",
    "    TR=np.matrix([[alpha,0],\n",
    "                   [0,alpha]])\n",
    "    return R,TR\n",
    "\n",
    "#Evaluamos la función\n",
    "state=np.asmatrix(np.random.rand(2,1))\n",
    "params=[2,2]\n",
    "\n",
    "R,TR=quad(state,params)\n",
    "print('R=',R)\n",
    "print('TR=',TR)"
   ]
  },
  {
   "cell_type": "markdown",
   "metadata": {},
   "source": [
    "Ahora, programamos el test de consistencia"
   ]
  },
  {
   "cell_type": "code",
   "execution_count": 8,
   "metadata": {},
   "outputs": [
    {
     "name": "stdout",
     "output_type": "stream",
     "text": [
      "[[0.99124098]\n",
      " [0.6254294 ]]\n",
      "error= 1.2808535215594445e-16\n"
     ]
    }
   ],
   "source": [
    "def Consistency(func,state,params):\n",
    "    h=10**-3\n",
    "    x=state\n",
    "    x1=x[0,0]\n",
    "    x2=x[1,0]\n",
    "    e=np.random.rand(2,1)\n",
    "    print(e)\n",
    "    norm=np.linalg.norm(e)\n",
    "    e=e/norm\n",
    "    xa=x+h*e\n",
    "    xb=x-h*e\n",
    "    \n",
    "    statea=xa\n",
    "    stateb=xb\n",
    "    \n",
    "    test2=(func(statea,params)[0]-func(stateb,params)[0])*0.5-func(state,params)[1]*h*e\n",
    "    norm_test2=np.linalg.norm(test2)     \n",
    "    print('error=',norm_test2) \n",
    "    return\n",
    "\n",
    "\n",
    "Consistency(quad,state,params)"
   ]
  },
  {
   "cell_type": "code",
   "execution_count": null,
   "metadata": {},
   "outputs": [],
   "source": []
  }
 ],
 "metadata": {
  "kernelspec": {
   "display_name": "Python 3",
   "language": "python",
   "name": "python3"
  },
  "language_info": {
   "codemirror_mode": {
    "name": "ipython",
    "version": 3
   },
   "file_extension": ".py",
   "mimetype": "text/x-python",
   "name": "python",
   "nbconvert_exporter": "python",
   "pygments_lexer": "ipython3",
   "version": "3.7.4"
  },
  "latex_envs": {
   "LaTeX_envs_menu_present": true,
   "autoclose": false,
   "autocomplete": true,
   "bibliofile": "biblio.bib",
   "cite_by": "apalike",
   "current_citInitial": 1,
   "eqLabelWithNumbers": true,
   "eqNumInitial": 1,
   "hotkeys": {
    "equation": "Ctrl-E",
    "itemize": "Ctrl-I"
   },
   "labels_anchors": false,
   "latex_user_defs": false,
   "report_style_numbering": false,
   "user_envs_cfg": false
  }
 },
 "nbformat": 4,
 "nbformat_minor": 2
}
