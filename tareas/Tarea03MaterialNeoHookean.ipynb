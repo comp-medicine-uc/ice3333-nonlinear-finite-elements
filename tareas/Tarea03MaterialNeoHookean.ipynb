{
 "cells": [
  {
   "cell_type": "markdown",
   "metadata": {},
   "source": [
    "# ICE3333 - Elementos Finitos No-Lineales \n",
    "## Material NeoHookean"
   ]
  },
  {
   "cell_type": "markdown",
   "metadata": {},
   "source": [
    "En este archivo se presenta una alternativa para programar la función que nos permite obtener el tensor PK2 y el tensor elástico  ${\\tt C}$ para un material NeoHookean. En particular, para este material sus componentes vienen dadas por\n",
    "\n",
    "\\begin{align*}\n",
    "S_{IJ} &= \\mu \\delta_{IJ} + (\\lambda \\ln J - \\mu) C^{-1}_{IJ},\\\\\n",
    "C_{IJKL} &= \\lambda C_{IJ}^{-1} C_{KL}^{-1}  + 2(\\mu - \\lambda \\ln J) C_{IK}^{-1} C_{JL}^{-1},\n",
    "\\end{align*}\n",
    "\n",
    "\n",
    "\n"
   ]
  },
  {
   "cell_type": "markdown",
   "metadata": {},
   "source": [
    "Para lo anterior programaremos la siguiente rutina:\n",
    "$\\texttt{[S, C] = material_NLElasticity_NH(material_state, material_parameters)}$ donde $\\\\\\texttt{material_state}$ es el tensor Lagrangeano de deformación, ${\\tt material \\_parameters = [mu, lam]}$, ${\\tt S}$ es el tensor PK2 y ${\\tt C}$ es el tensor elástico material.\n",
    "\n",
    "Dada la simetría de los tensores es conveniente utilizar notación de Voigt. Luego, de modo de obtener una mayor eficiencia, formaremos los tensores directamente en esta notación.\n"
   ]
  },
  {
   "cell_type": "markdown",
   "metadata": {},
   "source": [
    "### Rutina material"
   ]
  },
  {
   "cell_type": "code",
   "execution_count": 1,
   "metadata": {},
   "outputs": [],
   "source": [
    "import numpy as np\n",
    "\n",
    "\n",
    "\n",
    "def material_NLElasticity_NH(material_state, material_parameters):\n",
    "    mu,lam=material_parameters\n",
    "    E=material_state\n",
    "    Eten=np.matrix([[E[0,0],E[3,0]/2.,E[5,0]/2.],\n",
    "                    [E[3,0]/2.,E[1,0],E[4,0]/2.],\n",
    "                    [E[5,0]/2.,E[4,0]/2.,E[2,0]]])\n",
    "    C=2.*Eten+np.eye(3)\n",
    "    invC=np.linalg.inv(C)\n",
    "    J=np.sqrt(np.linalg.det(C))\n",
    "    Sten=mu*np.eye(3)+(lam*np.log(J)-mu)*invC\n",
    "    S=np.matrix([[Sten[0,0],Sten[1,1],Sten[2,2],Sten[0,1],Sten[1,2],Sten[0,2]]]).T\n",
    "    \n",
    "    C_el=np.zeros([6,6])\n",
    "    index1=[[0,0],[1,1],[2,2],[0,1],[1,2],[0,2]]\n",
    "    index2=[[1,0],[2,1],[2,0]]\n",
    "    for i in np.arange(C_el.shape[0]):\n",
    "        for j in np.arange(i,C_el.shape[1]):\n",
    "            a,b=index1[i]\n",
    "            c,d=index1[j]\n",
    "            c1=lam*invC[a,b]*invC[c,d]+2.*(mu-lam*np.log(J))*invC[a,c]*invC[b,d]\n",
    "            if j>=3:\n",
    "                e,f=index2[j-3]\n",
    "                c2=lam*invC[a,b]*invC[e,f]+2.*(mu-lam*np.log(J))*invC[a,e]*invC[b,f]\n",
    "                C_el[i,j]=(c1+c2)/2.\n",
    "            else:\n",
    "                C_el[i,j]=c1\n",
    "            if i!=j:\n",
    "                C_el[j,i]=C_el[i,j]\n",
    "    \n",
    "    \n",
    "    C_el=np.asmatrix(C_el)\n",
    "    \n",
    "    return S,C_el"
   ]
  },
  {
   "cell_type": "markdown",
   "metadata": {},
   "source": [
    "Imprimiremos un ejemplo de outputs para esta rutina"
   ]
  },
  {
   "cell_type": "code",
   "execution_count": 6,
   "metadata": {},
   "outputs": [
    {
     "name": "stdout",
     "output_type": "stream",
     "text": [
      "Tensor Lagrangeano de deformación en notación de Voigt:\n",
      "[[0.91968831]\n",
      " [0.1432619 ]\n",
      " [0.6827628 ]\n",
      " [0.99056701]\n",
      " [0.02650699]\n",
      " [0.06332594]]\n",
      "--------------------------\n",
      "Tensor PK2 en notación de Voigt\n",
      "[[ 22.97389394]\n",
      " [ 48.87583566]\n",
      " [ 20.35618014]\n",
      " [-16.52592943]\n",
      " [ -0.08846684]\n",
      " [ -0.38968169]]\n",
      "--------------------------\n",
      "Tensor elástico material C en notación de Voigt\n",
      "[[-9.08611243e+00  1.33446888e+01  1.01814031e+01  6.99251161e+00\n",
      "  -3.36726392e-01  1.64883542e-01]\n",
      " [ 1.33446888e+01 -4.42252468e+01  2.24769531e+01  1.54269217e+01\n",
      "   8.25836172e-02 -5.30108930e-01]\n",
      " [ 1.01814031e+01  2.24769531e+01 -7.00590002e+00 -7.84221774e+00\n",
      "   3.28693213e-02  1.44783884e-01]\n",
      " [ 6.99251161e+00  1.54269217e+01 -7.84221774e+00 -2.20765761e+01\n",
      "   4.18130679e-01  6.01879417e-02]\n",
      " [-3.36726392e-01  8.25836172e-02  3.28693213e-02  4.18130679e-01\n",
      "  -2.00397338e+01  6.99048431e+00]\n",
      " [ 1.64883542e-01 -5.30108930e-01  1.44783884e-01  6.01879417e-02\n",
      "   6.99048431e+00 -9.08294156e+00]]\n"
     ]
    }
   ],
   "source": [
    "mu,lam=1.5,50.\n",
    "material_parameters=mu,lam\n",
    "E=np.random.random([6,1])\n",
    "state=E\n",
    "parameters=material_parameters\n",
    "print('Tensor Lagrangeano de deformación en notación de Voigt:')\n",
    "print(E)\n",
    "S,C=material_NLElasticity_NH(state, parameters)\n",
    "print('--------------------------')\n",
    "print('Tensor PK2 en notación de Voigt')\n",
    "print(S)\n",
    "print('--------------------------')\n",
    "print('Tensor elástico material C en notación de Voigt')\n",
    "print(C)\n"
   ]
  },
  {
   "cell_type": "markdown",
   "metadata": {},
   "source": [
    "### Test de consistencia"
   ]
  },
  {
   "cell_type": "markdown",
   "metadata": {},
   "source": [
    "Ahora, verificaremos que nuestra función pase el test de consistencia de 4to orden"
   ]
  },
  {
   "cell_type": "code",
   "execution_count": 7,
   "metadata": {},
   "outputs": [
    {
     "name": "stdout",
     "output_type": "stream",
     "text": [
      "Test de consistencia material: 2.801763217443831e-13\n"
     ]
    }
   ],
   "source": [
    "def MaterialConsistencyTest(func,state,params):\n",
    "    e=np.random.random(state.shape)\n",
    "    e=e/np.linalg.norm(e) \n",
    "    e=np.asmatrix(e)\n",
    "    h=1e-3\n",
    "    \n",
    "    x0=state\n",
    "    R,TR=func(x0, params)   \n",
    "    \n",
    "    x1=x0+2*h*e\n",
    "    R1,TR1=func(x1, params)\n",
    "    x2=x0+h*e\n",
    "    R2,TR2=func(x2, params) \n",
    "    x3=x0-h*e\n",
    "    R3,TR3=func(x3, params)       \n",
    "    x4=x0-2*h*e\n",
    "    R4,TR4=func(x4, params)         \n",
    "    \n",
    "    error=np.linalg.norm((-R1+8*R2-8*R3+R4)/12.-TR*e*h)\n",
    "    return error\n",
    "\n",
    "state=E\n",
    "params=material_parameters\n",
    "func=material_NLElasticity_NH\n",
    "\n",
    "error=MaterialConsistencyTest(func,state,params)\n",
    "print('Test de consistencia material: '+str(error))"
   ]
  },
  {
   "cell_type": "markdown",
   "metadata": {},
   "source": [
    "y vemos que el error es menor a $10^{-12}$, por lo que se verifica el test de consistencia."
   ]
  },
  {
   "cell_type": "code",
   "execution_count": null,
   "metadata": {},
   "outputs": [],
   "source": []
  }
 ],
 "metadata": {
  "kernelspec": {
   "display_name": "Python 3",
   "language": "python",
   "name": "python3"
  },
  "language_info": {
   "codemirror_mode": {
    "name": "ipython",
    "version": 3
   },
   "file_extension": ".py",
   "mimetype": "text/x-python",
   "name": "python",
   "nbconvert_exporter": "python",
   "pygments_lexer": "ipython3",
   "version": "3.7.4"
  },
  "latex_envs": {
   "LaTeX_envs_menu_present": true,
   "autoclose": false,
   "autocomplete": true,
   "bibliofile": "biblio.bib",
   "cite_by": "apalike",
   "current_citInitial": 1,
   "eqLabelWithNumbers": true,
   "eqNumInitial": 1,
   "hotkeys": {
    "equation": "Ctrl-E",
    "itemize": "Ctrl-I"
   },
   "labels_anchors": false,
   "latex_user_defs": false,
   "report_style_numbering": false,
   "user_envs_cfg": false
  }
 },
 "nbformat": 4,
 "nbformat_minor": 2
}
